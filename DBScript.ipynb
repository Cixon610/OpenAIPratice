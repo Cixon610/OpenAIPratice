﻿{
    "metadata": {
        "kernelspec": {
            "name": "SQL",
            "display_name": "SQL",
            "language": "sql"
        },
        "language_info": {
            "name": "sql",
            "version": ""
        },
        "kernel_spec": {
            "name": "SQL",
            "language": "sql",
            "display_name": "SQL"
        }
    },
    "nbformat_minor": 2,
    "nbformat": 4,
    "cells": [
        {
            "cell_type": "markdown",
            "source": [
                "# [OpenAI]"
            ],
            "metadata": {
                "urn": "Server[@Name='RyWork\\LOCALDB#C1D23680']/Database[@Name='OpenAI']",
                "object_type": "Database",
                "azdata_cell_guid": "b13c1067-f504-45c1-8e27-c2ebac9ca3a9"
            }
        },
        {
            "cell_type": "code",
            "source": [
                "USE [master]\r\n",
                "GO\r\n"
            ],
            "metadata": {
                "urn": "Server[@Name='RyWork\\LOCALDB#C1D23680']/Database[@Name='OpenAI']",
                "object_type": "Database",
                "azdata_cell_guid": "21cfe7a5-b576-4eef-8b9f-fccc78602462",
                "language": "sql"
            },
            "outputs": [],
            "execution_count": null
        },
        {
            "cell_type": "code",
            "source": [
                "/****** Object:  Database [OpenAI]    Script Date: 2023/5/15 下午 08:37:22 ******/\r\nCREATE DATABASE [OpenAI]\r\n CONTAINMENT = NONE\r\n ON  PRIMARY \r\n( NAME = N'OpenAI', FILENAME = N'C:\\Users\\ryan8\\Desktop\\OpenAIDB\\OpenAI.mdf' , SIZE = 8192KB , MAXSIZE = UNLIMITED, FILEGROWTH = 65536KB )\r\n LOG ON \r\n( NAME = N'OpenAI_log', FILENAME = N'C:\\Users\\ryan8\\Desktop\\OpenAIDB\\OpenAI_log.ldf' , SIZE = 8192KB , MAXSIZE = 2048GB , FILEGROWTH = 65536KB )\r\n WITH CATALOG_COLLATION = DATABASE_DEFAULT\r\n",
                "GO\r\n",
                "ALTER DATABASE [OpenAI] SET COMPATIBILITY_LEVEL = 130\r\n",
                "GO\r\n",
                "IF (1 = FULLTEXTSERVICEPROPERTY('IsFullTextInstalled'))\r\nbegin\r\nEXEC [OpenAI].[dbo].[sp_fulltext_database] @action = 'enable'\r\nend\r\n",
                "GO\r\n",
                "ALTER DATABASE [OpenAI] SET ANSI_NULL_DEFAULT OFF \r\n",
                "GO\r\n",
                "ALTER DATABASE [OpenAI] SET ANSI_NULLS OFF \r\n",
                "GO\r\n",
                "ALTER DATABASE [OpenAI] SET ANSI_PADDING OFF \r\n",
                "GO\r\n",
                "ALTER DATABASE [OpenAI] SET ANSI_WARNINGS OFF \r\n",
                "GO\r\n",
                "ALTER DATABASE [OpenAI] SET ARITHABORT OFF \r\n",
                "GO\r\n",
                "ALTER DATABASE [OpenAI] SET AUTO_CLOSE ON \r\n",
                "GO\r\n",
                "ALTER DATABASE [OpenAI] SET AUTO_SHRINK OFF \r\n",
                "GO\r\n",
                "ALTER DATABASE [OpenAI] SET AUTO_UPDATE_STATISTICS ON \r\n",
                "GO\r\n",
                "ALTER DATABASE [OpenAI] SET CURSOR_CLOSE_ON_COMMIT OFF \r\n",
                "GO\r\n",
                "ALTER DATABASE [OpenAI] SET CURSOR_DEFAULT  GLOBAL \r\n",
                "GO\r\n",
                "ALTER DATABASE [OpenAI] SET CONCAT_NULL_YIELDS_NULL OFF \r\n",
                "GO\r\n",
                "ALTER DATABASE [OpenAI] SET NUMERIC_ROUNDABORT OFF \r\n",
                "GO\r\n",
                "ALTER DATABASE [OpenAI] SET QUOTED_IDENTIFIER OFF \r\n",
                "GO\r\n",
                "ALTER DATABASE [OpenAI] SET RECURSIVE_TRIGGERS OFF \r\n",
                "GO\r\n",
                "ALTER DATABASE [OpenAI] SET  DISABLE_BROKER \r\n",
                "GO\r\n",
                "ALTER DATABASE [OpenAI] SET AUTO_UPDATE_STATISTICS_ASYNC OFF \r\n",
                "GO\r\n",
                "ALTER DATABASE [OpenAI] SET DATE_CORRELATION_OPTIMIZATION OFF \r\n",
                "GO\r\n",
                "ALTER DATABASE [OpenAI] SET TRUSTWORTHY OFF \r\n",
                "GO\r\n",
                "ALTER DATABASE [OpenAI] SET ALLOW_SNAPSHOT_ISOLATION OFF \r\n",
                "GO\r\n",
                "ALTER DATABASE [OpenAI] SET PARAMETERIZATION SIMPLE \r\n",
                "GO\r\n",
                "ALTER DATABASE [OpenAI] SET READ_COMMITTED_SNAPSHOT OFF \r\n",
                "GO\r\n",
                "ALTER DATABASE [OpenAI] SET HONOR_BROKER_PRIORITY OFF \r\n",
                "GO\r\n",
                "ALTER DATABASE [OpenAI] SET RECOVERY SIMPLE \r\n",
                "GO\r\n",
                "ALTER DATABASE [OpenAI] SET  MULTI_USER \r\n",
                "GO\r\n",
                "ALTER DATABASE [OpenAI] SET PAGE_VERIFY CHECKSUM  \r\n",
                "GO\r\n",
                "ALTER DATABASE [OpenAI] SET DB_CHAINING OFF \r\n",
                "GO\r\n",
                "ALTER DATABASE [OpenAI] SET FILESTREAM( NON_TRANSACTED_ACCESS = OFF ) \r\n",
                "GO\r\n",
                "ALTER DATABASE [OpenAI] SET TARGET_RECOVERY_TIME = 60 SECONDS \r\n",
                "GO\r\n",
                "ALTER DATABASE [OpenAI] SET DELAYED_DURABILITY = DISABLED \r\n",
                "GO\r\n",
                "ALTER DATABASE [OpenAI] SET ACCELERATED_DATABASE_RECOVERY = OFF  \r\n",
                "GO\r\n",
                "ALTER DATABASE [OpenAI] SET QUERY_STORE = OFF\r\n",
                "GO\r\n"
            ],
            "metadata": {
                "urn": "Server[@Name='RyWork\\LOCALDB#C1D23680']/Database[@Name='OpenAI']",
                "object_type": "Database",
                "azdata_cell_guid": "8f2b8184-7be8-4797-b7f5-3c99ac0b5365",
                "language": "sql"
            },
            "outputs": [],
            "execution_count": null
        },
        {
            "cell_type": "markdown",
            "source": [
                "# [dbo].[AvailableIce]"
            ],
            "metadata": {
                "urn": "Server[@Name='RyWork\\LOCALDB#C1D23680']/Database[@Name='OpenAI']/Table[@Name='AvailableIce' and @Schema='dbo']",
                "object_type": "Table",
                "azdata_cell_guid": "92fc372e-473c-415d-b2a5-4420afc6ea39"
            }
        },
        {
            "cell_type": "code",
            "source": [
                "USE [OpenAI]\r\n",
                "GO\r\n"
            ],
            "metadata": {
                "urn": "Server[@Name='RyWork\\LOCALDB#C1D23680']/Database[@Name='OpenAI']/Table[@Name='AvailableIce' and @Schema='dbo']",
                "object_type": "Table",
                "azdata_cell_guid": "5dba37de-b787-43c4-a103-6120a861fe6b",
                "language": "sql"
            },
            "outputs": [
                {
                    "output_type": "display_data",
                    "data": {
                        "text/html": "Commands completed successfully."
                    },
                    "metadata": {}
                },
                {
                    "output_type": "display_data",
                    "data": {
                        "text/html": "Total execution time: 00:00:00"
                    },
                    "metadata": {}
                }
            ],
            "execution_count": 1
        },
        {
            "cell_type": "code",
            "source": [
                "/****** Object:  Table [dbo].[AvailableIce]    Script Date: 2023/5/15 下午 08:37:22 ******/\r\n",
                "SET ANSI_NULLS ON\r\n",
                "GO\r\n",
                "SET QUOTED_IDENTIFIER ON\r\n",
                "GO\r\n",
                "CREATE TABLE [dbo].[AvailableIce](\r\n",
                "\t[ID] [uniqueidentifier] NOT NULL,\r\n",
                "\t[MenuItemID] [uniqueidentifier] NOT NULL,\r\n",
                "\t[IceID] [uniqueidentifier] NOT NULL,\r\n",
                "\t[CreatedDatetime] [datetime] NOT NULL,\r\n",
                "\t[UpdateDatetime] [datetime] NOT NULL,\r\n",
                "PRIMARY KEY CLUSTERED \r\n",
                "(\r\n",
                "\t[ID] ASC\r\n",
                ")WITH (PAD_INDEX = OFF, STATISTICS_NORECOMPUTE = OFF, IGNORE_DUP_KEY = OFF, ALLOW_ROW_LOCKS = ON, ALLOW_PAGE_LOCKS = ON) ON [PRIMARY]\r\n",
                ") ON [PRIMARY]\r\n",
                "GO\r\n",
                ""
            ],
            "metadata": {
                "urn": "Server[@Name='RyWork\\LOCALDB#C1D23680']/Database[@Name='OpenAI']/Table[@Name='AvailableIce' and @Schema='dbo']",
                "object_type": "Table",
                "azdata_cell_guid": "62416645-6029-4d89-af1c-65be594c58a1",
                "language": "sql"
            },
            "outputs": [
                {
                    "output_type": "display_data",
                    "data": {
                        "text/html": "Commands completed successfully."
                    },
                    "metadata": {}
                },
                {
                    "output_type": "display_data",
                    "data": {
                        "text/html": "Commands completed successfully."
                    },
                    "metadata": {}
                },
                {
                    "output_type": "error",
                    "evalue": "Msg 155, Level 15, State 1, Line 15\r\n'OPTIMIZE_FOR_SEQUENTIAL_KEY' is not a recognized CREATE TABLE option.",
                    "ename": "",
                    "traceback": []
                },
                {
                    "output_type": "display_data",
                    "data": {
                        "text/html": "Total execution time: 00:00:00"
                    },
                    "metadata": {}
                }
            ],
            "execution_count": 2
        },
        {
            "cell_type": "markdown",
            "source": [
                "# [dbo].[AvailableSize]"
            ],
            "metadata": {
                "urn": "Server[@Name='RyWork\\LOCALDB#C1D23680']/Database[@Name='OpenAI']/Table[@Name='AvailableSize' and @Schema='dbo']",
                "object_type": "Table",
                "azdata_cell_guid": "e28134c7-b583-49bd-bf6b-66c4e3519a91"
            }
        },
        {
            "cell_type": "code",
            "source": [
                "/****** Object:  Table [dbo].[AvailableSize]    Script Date: 2023/5/15 下午 08:37:22 ******/\r\nSET ANSI_NULLS ON\r\n",
                "GO\r\n",
                "SET QUOTED_IDENTIFIER ON\r\n",
                "GO\r\n",
                "CREATE TABLE [dbo].[AvailableSize](\r\n\t[ID] [int] IDENTITY(1,1) NOT NULL,\r\n\t[SizeID] [uniqueidentifier] NOT NULL,\r\n\t[MenuItemID] [uniqueidentifier] NOT NULL,\r\n CONSTRAINT [PK_AvailableSize] PRIMARY KEY CLUSTERED \r\n(\r\n\t[ID] ASC\r\n)WITH (PAD_INDEX = OFF, STATISTICS_NORECOMPUTE = OFF, IGNORE_DUP_KEY = OFF, ALLOW_ROW_LOCKS = ON, ALLOW_PAGE_LOCKS = ON) ON [PRIMARY]\r\n) ON [PRIMARY]\r\nGO\r\n"
            ],
            "metadata": {
                "urn": "Server[@Name='RyWork\\LOCALDB#C1D23680']/Database[@Name='OpenAI']/Table[@Name='AvailableSize' and @Schema='dbo']",
                "object_type": "Table",
                "azdata_cell_guid": "1ff90bd0-7ebe-4884-9610-cfd08e8316c6",
                "language": "sql"
            },
            "outputs": [],
            "execution_count": null
        },
        {
            "cell_type": "markdown",
            "source": [
                "# [dbo].[AvailableSuger]"
            ],
            "metadata": {
                "urn": "Server[@Name='RyWork\\LOCALDB#C1D23680']/Database[@Name='OpenAI']/Table[@Name='AvailableSuger' and @Schema='dbo']",
                "object_type": "Table",
                "azdata_cell_guid": "d1d1ffd7-25fc-4617-8987-7f836a861f63"
            }
        },
        {
            "cell_type": "code",
            "source": [
                "/****** Object:  Table [dbo].[AvailableSuger]    Script Date: 2023/5/15 下午 08:37:22 ******/\r\nSET ANSI_NULLS ON\r\n",
                "GO\r\n",
                "SET QUOTED_IDENTIFIER ON\r\n",
                "GO\r\n",
                "CREATE TABLE [dbo].[AvailableSuger](\r\n\t[ID] [uniqueidentifier] NOT NULL,\r\n\t[MenuItemID] [uniqueidentifier] NOT NULL,\r\n\t[SugerID] [uniqueidentifier] NOT NULL,\r\n\t[CreatedDatetime] [datetime] NOT NULL,\r\n\t[UpdateDatetime] [datetime] NOT NULL,\r\nPRIMARY KEY CLUSTERED \r\n(\r\n\t[ID] ASC\r\n)WITH (PAD_INDEX = OFF, STATISTICS_NORECOMPUTE = OFF, IGNORE_DUP_KEY = OFF, ALLOW_ROW_LOCKS = ON, ALLOW_PAGE_LOCKS = ON) ON [PRIMARY]\r\n) ON [PRIMARY]\r\nGO\r\n"
            ],
            "metadata": {
                "urn": "Server[@Name='RyWork\\LOCALDB#C1D23680']/Database[@Name='OpenAI']/Table[@Name='AvailableSuger' and @Schema='dbo']",
                "object_type": "Table",
                "azdata_cell_guid": "7f5df4fe-4383-4c6b-b696-3e6d30543735",
                "language": "sql"
            },
            "outputs": [],
            "execution_count": null
        },
        {
            "cell_type": "markdown",
            "source": [
                "# [dbo].[AvailableTopping]"
            ],
            "metadata": {
                "urn": "Server[@Name='RyWork\\LOCALDB#C1D23680']/Database[@Name='OpenAI']/Table[@Name='AvailableTopping' and @Schema='dbo']",
                "object_type": "Table",
                "azdata_cell_guid": "6161f91e-2556-4f6f-b699-55b00f85f5b9"
            }
        },
        {
            "cell_type": "code",
            "source": [
                "/****** Object:  Table [dbo].[AvailableTopping]    Script Date: 2023/5/15 下午 08:37:22 ******/\r\nSET ANSI_NULLS ON\r\n",
                "GO\r\n",
                "SET QUOTED_IDENTIFIER ON\r\n",
                "GO\r\n",
                "CREATE TABLE [dbo].[AvailableTopping](\r\n\t[ID] [uniqueidentifier] NOT NULL,\r\n\t[MenuItemID] [uniqueidentifier] NOT NULL,\r\n\t[ToppingID] [uniqueidentifier] NOT NULL,\r\n\t[CreatedDatetime] [datetime] NOT NULL,\r\n\t[UpdateDatetime] [datetime] NOT NULL,\r\nPRIMARY KEY CLUSTERED \r\n(\r\n\t[ID] ASC\r\n)WITH (PAD_INDEX = OFF, STATISTICS_NORECOMPUTE = OFF, IGNORE_DUP_KEY = OFF, ALLOW_ROW_LOCKS = ON, ALLOW_PAGE_LOCKS = ON) ON [PRIMARY]\r\n) ON [PRIMARY]\r\nGO\r\n"
            ],
            "metadata": {
                "urn": "Server[@Name='RyWork\\LOCALDB#C1D23680']/Database[@Name='OpenAI']/Table[@Name='AvailableTopping' and @Schema='dbo']",
                "object_type": "Table",
                "azdata_cell_guid": "ef9f1474-0166-4933-b629-f42600aa2f2f",
                "language": "sql"
            },
            "outputs": [],
            "execution_count": null
        },
        {
            "cell_type": "markdown",
            "source": [
                "# [dbo].[Conversation]"
            ],
            "metadata": {
                "urn": "Server[@Name='RyWork\\LOCALDB#C1D23680']/Database[@Name='OpenAI']/Table[@Name='Conversation' and @Schema='dbo']",
                "object_type": "Table",
                "azdata_cell_guid": "350f459c-24c6-4f27-badd-fc5bc10e8874"
            }
        },
        {
            "cell_type": "code",
            "source": [
                "/****** Object:  Table [dbo].[Conversation]    Script Date: 2023/5/15 下午 08:37:22 ******/\r\nSET ANSI_NULLS ON\r\n",
                "GO\r\n",
                "SET QUOTED_IDENTIFIER ON\r\n",
                "GO\r\n",
                "CREATE TABLE [dbo].[Conversation](\r\n\t[ID] [uniqueidentifier] NOT NULL,\r\n\t[UserID] [uniqueidentifier] NOT NULL,\r\n\t[CreatedDatetime] [datetime] NOT NULL,\r\n\t[UpdateDatetime] [datetime] NOT NULL,\r\nPRIMARY KEY CLUSTERED \r\n(\r\n\t[ID] ASC\r\n)WITH (PAD_INDEX = OFF, STATISTICS_NORECOMPUTE = OFF, IGNORE_DUP_KEY = OFF, ALLOW_ROW_LOCKS = ON, ALLOW_PAGE_LOCKS = ON) ON [PRIMARY]\r\n) ON [PRIMARY]\r\nGO\r\n"
            ],
            "metadata": {
                "urn": "Server[@Name='RyWork\\LOCALDB#C1D23680']/Database[@Name='OpenAI']/Table[@Name='Conversation' and @Schema='dbo']",
                "object_type": "Table",
                "azdata_cell_guid": "12ae6eb4-9eb7-4d7e-bfd9-1f4ca3645d7f",
                "language": "sql"
            },
            "outputs": [],
            "execution_count": null
        },
        {
            "cell_type": "markdown",
            "source": [
                "# [dbo].[Ice]"
            ],
            "metadata": {
                "urn": "Server[@Name='RyWork\\LOCALDB#C1D23680']/Database[@Name='OpenAI']/Table[@Name='Ice' and @Schema='dbo']",
                "object_type": "Table",
                "azdata_cell_guid": "ede3203f-5321-4eb0-82e2-3059de3bdbe4"
            }
        },
        {
            "cell_type": "code",
            "source": [
                "/****** Object:  Table [dbo].[Ice]    Script Date: 2023/5/15 下午 08:37:22 ******/\r\nSET ANSI_NULLS ON\r\n",
                "GO\r\n",
                "SET QUOTED_IDENTIFIER ON\r\n",
                "GO\r\n",
                "CREATE TABLE [dbo].[Ice](\r\n\t[ID] [uniqueidentifier] NOT NULL,\r\n\t[Name] [nvarchar](50) NOT NULL,\r\n\t[CreatedDatetime] [datetime] NOT NULL,\r\n\t[UpdateDatetime] [datetime] NOT NULL,\r\nPRIMARY KEY CLUSTERED \r\n(\r\n\t[ID] ASC\r\n)WITH (PAD_INDEX = OFF, STATISTICS_NORECOMPUTE = OFF, IGNORE_DUP_KEY = OFF, ALLOW_ROW_LOCKS = ON, ALLOW_PAGE_LOCKS = ON) ON [PRIMARY]\r\n) ON [PRIMARY]\r\nGO\r\n"
            ],
            "metadata": {
                "urn": "Server[@Name='RyWork\\LOCALDB#C1D23680']/Database[@Name='OpenAI']/Table[@Name='Ice' and @Schema='dbo']",
                "object_type": "Table",
                "azdata_cell_guid": "c14d74e2-fc47-4ee8-8529-c3d95f1a5651",
                "language": "sql"
            },
            "outputs": [],
            "execution_count": null
        },
        {
            "cell_type": "markdown",
            "source": [
                "# [dbo].[IPBlocker]"
            ],
            "metadata": {
                "urn": "Server[@Name='RyWork\\LOCALDB#C1D23680']/Database[@Name='OpenAI']/Table[@Name='IPBlocker' and @Schema='dbo']",
                "object_type": "Table",
                "azdata_cell_guid": "238383f1-6853-4262-8863-7c0a021abe24"
            }
        },
        {
            "cell_type": "code",
            "source": [
                "/****** Object:  Table [dbo].[IPBlocker]    Script Date: 2023/5/15 下午 08:37:22 ******/\r\nSET ANSI_NULLS ON\r\n",
                "GO\r\n",
                "SET QUOTED_IDENTIFIER ON\r\n",
                "GO\r\n",
                "CREATE TABLE [dbo].[IPBlocker](\r\n\t[ID] [uniqueidentifier] NOT NULL,\r\n\t[UserID] [uniqueidentifier] NOT NULL,\r\n\t[IPAddress] [nvarchar](20) NOT NULL,\r\n\t[Count] [int] NOT NULL,\r\n\t[Enable] [bit] NOT NULL,\r\n\t[CreatedDatetime] [datetime] NOT NULL,\r\n\t[UpdateDatetime] [datetime] NOT NULL,\r\nPRIMARY KEY CLUSTERED \r\n(\r\n\t[ID] ASC\r\n)WITH (PAD_INDEX = OFF, STATISTICS_NORECOMPUTE = OFF, IGNORE_DUP_KEY = OFF, ALLOW_ROW_LOCKS = ON, ALLOW_PAGE_LOCKS = ON) ON [PRIMARY]\r\n) ON [PRIMARY]\r\nGO\r\n"
            ],
            "metadata": {
                "urn": "Server[@Name='RyWork\\LOCALDB#C1D23680']/Database[@Name='OpenAI']/Table[@Name='IPBlocker' and @Schema='dbo']",
                "object_type": "Table",
                "azdata_cell_guid": "1ab7c4bc-3686-4f31-9d6a-bfc3545205fa",
                "language": "sql"
            },
            "outputs": [],
            "execution_count": null
        },
        {
            "cell_type": "markdown",
            "source": [
                "# [dbo].[ItemStore]"
            ],
            "metadata": {
                "urn": "Server[@Name='RyWork\\LOCALDB#C1D23680']/Database[@Name='OpenAI']/Table[@Name='ItemStore' and @Schema='dbo']",
                "object_type": "Table",
                "azdata_cell_guid": "7bc20220-a83a-42a0-a926-e0235b728a96"
            }
        },
        {
            "cell_type": "code",
            "source": [
                "/****** Object:  Table [dbo].[ItemStore]    Script Date: 2023/5/15 下午 08:37:22 ******/\r\nSET ANSI_NULLS ON\r\n",
                "GO\r\n",
                "SET QUOTED_IDENTIFIER ON\r\n",
                "GO\r\n",
                "CREATE TABLE [dbo].[ItemStore](\r\n\t[ID] [uniqueidentifier] NOT NULL,\r\n\t[MenuItemID] [uniqueidentifier] NOT NULL,\r\n\t[Count] [int] NOT NULL,\r\n\t[CreatedDatetime] [datetime] NOT NULL,\r\n\t[UpdateDatetime] [datetime] NOT NULL,\r\nPRIMARY KEY CLUSTERED \r\n(\r\n\t[ID] ASC\r\n)WITH (PAD_INDEX = OFF, STATISTICS_NORECOMPUTE = OFF, IGNORE_DUP_KEY = OFF, ALLOW_ROW_LOCKS = ON, ALLOW_PAGE_LOCKS = ON) ON [PRIMARY]\r\n) ON [PRIMARY]\r\nGO\r\n"
            ],
            "metadata": {
                "urn": "Server[@Name='RyWork\\LOCALDB#C1D23680']/Database[@Name='OpenAI']/Table[@Name='ItemStore' and @Schema='dbo']",
                "object_type": "Table",
                "azdata_cell_guid": "68c32313-2319-4992-8299-ace69690a2b4",
                "language": "sql"
            },
            "outputs": [],
            "execution_count": null
        },
        {
            "cell_type": "markdown",
            "source": [
                "# [dbo].[LoginLog]"
            ],
            "metadata": {
                "urn": "Server[@Name='RyWork\\LOCALDB#C1D23680']/Database[@Name='OpenAI']/Table[@Name='LoginLog' and @Schema='dbo']",
                "object_type": "Table",
                "azdata_cell_guid": "086302de-596a-42f3-bbb9-22ff0a43f7c4"
            }
        },
        {
            "cell_type": "code",
            "source": [
                "/****** Object:  Table [dbo].[LoginLog]    Script Date: 2023/5/15 下午 08:37:22 ******/\r\nSET ANSI_NULLS ON\r\n",
                "GO\r\n",
                "SET QUOTED_IDENTIFIER ON\r\n",
                "GO\r\n",
                "CREATE TABLE [dbo].[LoginLog](\r\n\t[ID] [uniqueidentifier] NOT NULL,\r\n\t[UserID] [uniqueidentifier] NOT NULL,\r\n\t[IPAddress] [nvarchar](20) NOT NULL,\r\n\t[Device] [nvarchar](50) NOT NULL,\r\n\t[CountryCode] [varchar](10) NOT NULL,\r\n\t[CreatedDatetime] [datetime] NOT NULL,\r\n\t[UpdateDatetime] [datetime] NOT NULL,\r\nPRIMARY KEY CLUSTERED \r\n(\r\n\t[ID] ASC\r\n)WITH (PAD_INDEX = OFF, STATISTICS_NORECOMPUTE = OFF, IGNORE_DUP_KEY = OFF, ALLOW_ROW_LOCKS = ON, ALLOW_PAGE_LOCKS = ON) ON [PRIMARY]\r\n) ON [PRIMARY]\r\nGO\r\n"
            ],
            "metadata": {
                "urn": "Server[@Name='RyWork\\LOCALDB#C1D23680']/Database[@Name='OpenAI']/Table[@Name='LoginLog' and @Schema='dbo']",
                "object_type": "Table",
                "azdata_cell_guid": "42705cb0-6508-4037-92f1-42d034897806",
                "language": "sql"
            },
            "outputs": [],
            "execution_count": null
        },
        {
            "cell_type": "markdown",
            "source": [
                "# [dbo].[MenuItem]"
            ],
            "metadata": {
                "urn": "Server[@Name='RyWork\\LOCALDB#C1D23680']/Database[@Name='OpenAI']/Table[@Name='MenuItem' and @Schema='dbo']",
                "object_type": "Table",
                "azdata_cell_guid": "7024febf-a7d6-4b2d-b0b4-94756e3a3b12"
            }
        },
        {
            "cell_type": "code",
            "source": [
                "/****** Object:  Table [dbo].[MenuItem]    Script Date: 2023/5/15 下午 08:37:22 ******/\r\nSET ANSI_NULLS ON\r\n",
                "GO\r\n",
                "SET QUOTED_IDENTIFIER ON\r\n",
                "GO\r\n",
                "CREATE TABLE [dbo].[MenuItem](\r\n\t[ID] [uniqueidentifier] NOT NULL,\r\n\t[Name] [nvarchar](50) NOT NULL,\r\n\t[MenuItemTypeID] [uniqueidentifier] NOT NULL,\r\n\t[CreatedDatetime] [datetime] NOT NULL,\r\n\t[UpdateDatetime] [datetime] NOT NULL,\r\n CONSTRAINT [PK__MenuItem__3214EC27835E56C8] PRIMARY KEY CLUSTERED \r\n(\r\n\t[ID] ASC\r\n)WITH (PAD_INDEX = OFF, STATISTICS_NORECOMPUTE = OFF, IGNORE_DUP_KEY = OFF, ALLOW_ROW_LOCKS = ON, ALLOW_PAGE_LOCKS = ON) ON [PRIMARY]\r\n) ON [PRIMARY]\r\nGO\r\n"
            ],
            "metadata": {
                "urn": "Server[@Name='RyWork\\LOCALDB#C1D23680']/Database[@Name='OpenAI']/Table[@Name='MenuItem' and @Schema='dbo']",
                "object_type": "Table",
                "azdata_cell_guid": "e57becea-cc23-43f1-93e0-60fecf532d7d",
                "language": "sql"
            },
            "outputs": [],
            "execution_count": null
        },
        {
            "cell_type": "markdown",
            "source": [
                "# [dbo].[MenuItemType]"
            ],
            "metadata": {
                "urn": "Server[@Name='RyWork\\LOCALDB#C1D23680']/Database[@Name='OpenAI']/Table[@Name='MenuItemType' and @Schema='dbo']",
                "object_type": "Table",
                "azdata_cell_guid": "21c5bfa9-3c43-48ed-87cf-a7ca3c860a1c"
            }
        },
        {
            "cell_type": "code",
            "source": [
                "/****** Object:  Table [dbo].[MenuItemType]    Script Date: 2023/5/15 下午 08:37:22 ******/\r\nSET ANSI_NULLS ON\r\n",
                "GO\r\n",
                "SET QUOTED_IDENTIFIER ON\r\n",
                "GO\r\n",
                "CREATE TABLE [dbo].[MenuItemType](\r\n\t[ID] [uniqueidentifier] NOT NULL,\r\n\t[Name] [nvarchar](50) NOT NULL,\r\n\t[Description] [nvarchar](200) NOT NULL,\r\n\t[CreatedDatetime] [datetime] NOT NULL,\r\n\t[UpdateDatetime] [datetime] NOT NULL,\r\nPRIMARY KEY CLUSTERED \r\n(\r\n\t[ID] ASC\r\n)WITH (PAD_INDEX = OFF, STATISTICS_NORECOMPUTE = OFF, IGNORE_DUP_KEY = OFF, ALLOW_ROW_LOCKS = ON, ALLOW_PAGE_LOCKS = ON) ON [PRIMARY]\r\n) ON [PRIMARY]\r\nGO\r\n"
            ],
            "metadata": {
                "urn": "Server[@Name='RyWork\\LOCALDB#C1D23680']/Database[@Name='OpenAI']/Table[@Name='MenuItemType' and @Schema='dbo']",
                "object_type": "Table",
                "azdata_cell_guid": "2c8245be-1ad0-4b35-8a26-ea26b750b443",
                "language": "sql"
            },
            "outputs": [],
            "execution_count": null
        },
        {
            "cell_type": "markdown",
            "source": [
                "# [dbo].[Message]"
            ],
            "metadata": {
                "urn": "Server[@Name='RyWork\\LOCALDB#C1D23680']/Database[@Name='OpenAI']/Table[@Name='Message' and @Schema='dbo']",
                "object_type": "Table",
                "azdata_cell_guid": "8c2da02c-403b-4ffb-84c3-7a374522bdcb"
            }
        },
        {
            "cell_type": "code",
            "source": [
                "/****** Object:  Table [dbo].[Message]    Script Date: 2023/5/15 下午 08:37:22 ******/\r\nSET ANSI_NULLS ON\r\n",
                "GO\r\n",
                "SET QUOTED_IDENTIFIER ON\r\n",
                "GO\r\n",
                "CREATE TABLE [dbo].[Message](\r\n\t[ID] [uniqueidentifier] NOT NULL,\r\n\t[ConversationID] [uniqueidentifier] NOT NULL,\r\n\t[Message] [nvarchar](max) NOT NULL,\r\n\t[OrderID] [int] NOT NULL,\r\n\t[CreatedDatetime] [datetime] NOT NULL,\r\n\t[UpdateDatetime] [datetime] NOT NULL,\r\nPRIMARY KEY CLUSTERED \r\n(\r\n\t[ID] ASC\r\n)WITH (PAD_INDEX = OFF, STATISTICS_NORECOMPUTE = OFF, IGNORE_DUP_KEY = OFF, ALLOW_ROW_LOCKS = ON, ALLOW_PAGE_LOCKS = ON) ON [PRIMARY]\r\n) ON [PRIMARY] TEXTIMAGE_ON [PRIMARY]\r\nGO\r\n"
            ],
            "metadata": {
                "urn": "Server[@Name='RyWork\\LOCALDB#C1D23680']/Database[@Name='OpenAI']/Table[@Name='Message' and @Schema='dbo']",
                "object_type": "Table",
                "azdata_cell_guid": "ced35a6e-5fd3-4447-91ce-0336f7bf38eb",
                "language": "sql"
            },
            "outputs": [],
            "execution_count": null
        },
        {
            "cell_type": "markdown",
            "source": [
                "# [dbo].[Order]"
            ],
            "metadata": {
                "urn": "Server[@Name='RyWork\\LOCALDB#C1D23680']/Database[@Name='OpenAI']/Table[@Name='Order' and @Schema='dbo']",
                "object_type": "Table",
                "azdata_cell_guid": "0aceca40-e66d-48ec-8f8d-84b7fa54e5a1"
            }
        },
        {
            "cell_type": "code",
            "source": [
                "/****** Object:  Table [dbo].[Order]    Script Date: 2023/5/15 下午 08:37:22 ******/\r\nSET ANSI_NULLS ON\r\n",
                "GO\r\n",
                "SET QUOTED_IDENTIFIER ON\r\n",
                "GO\r\n",
                "CREATE TABLE [dbo].[Order](\r\n\t[ID] [uniqueidentifier] NOT NULL,\r\n\t[UserID] [uniqueidentifier] NOT NULL,\r\n\t[MessageID] [uniqueidentifier] NOT NULL,\r\n\t[TotalValue] [int] NOT NULL,\r\n\t[TotalCount] [int] NOT NULL,\r\n\t[Memo] [nvarchar](300) NOT NULL,\r\n\t[CreatedDatetime] [datetime] NOT NULL,\r\n\t[UpdateDatetime] [datetime] NOT NULL,\r\nPRIMARY KEY CLUSTERED \r\n(\r\n\t[ID] ASC\r\n)WITH (PAD_INDEX = OFF, STATISTICS_NORECOMPUTE = OFF, IGNORE_DUP_KEY = OFF, ALLOW_ROW_LOCKS = ON, ALLOW_PAGE_LOCKS = ON) ON [PRIMARY]\r\n) ON [PRIMARY]\r\nGO\r\n"
            ],
            "metadata": {
                "urn": "Server[@Name='RyWork\\LOCALDB#C1D23680']/Database[@Name='OpenAI']/Table[@Name='Order' and @Schema='dbo']",
                "object_type": "Table",
                "azdata_cell_guid": "37f98d5c-a8d6-4bea-b0a2-9ab0e828c268",
                "language": "sql"
            },
            "outputs": [],
            "execution_count": null
        },
        {
            "cell_type": "markdown",
            "source": [
                "# [dbo].[OrderDetail]"
            ],
            "metadata": {
                "urn": "Server[@Name='RyWork\\LOCALDB#C1D23680']/Database[@Name='OpenAI']/Table[@Name='OrderDetail' and @Schema='dbo']",
                "object_type": "Table",
                "azdata_cell_guid": "6c815367-9708-4845-8faa-dea678816914"
            }
        },
        {
            "cell_type": "code",
            "source": [
                "/****** Object:  Table [dbo].[OrderDetail]    Script Date: 2023/5/15 下午 08:37:22 ******/\r\nSET ANSI_NULLS ON\r\n",
                "GO\r\n",
                "SET QUOTED_IDENTIFIER ON\r\n",
                "GO\r\n",
                "CREATE TABLE [dbo].[OrderDetail](\r\n\t[ID] [uniqueidentifier] NOT NULL,\r\n\t[OrderID] [uniqueidentifier] NOT NULL,\r\n\t[SizeID] [uniqueidentifier] NOT NULL,\r\n\t[SugerID] [uniqueidentifier] NOT NULL,\r\n\t[IceID] [uniqueidentifier] NOT NULL,\r\n\t[Value] [int] NOT NULL,\r\n\t[Memo] [nvarchar](300) NOT NULL,\r\n\t[CreatedDatetime] [datetime] NOT NULL,\r\n\t[UpdateDatetime] [datetime] NOT NULL,\r\nPRIMARY KEY CLUSTERED \r\n(\r\n\t[ID] ASC\r\n)WITH (PAD_INDEX = OFF, STATISTICS_NORECOMPUTE = OFF, IGNORE_DUP_KEY = OFF, ALLOW_ROW_LOCKS = ON, ALLOW_PAGE_LOCKS = ON) ON [PRIMARY]\r\n) ON [PRIMARY]\r\nGO\r\n"
            ],
            "metadata": {
                "urn": "Server[@Name='RyWork\\LOCALDB#C1D23680']/Database[@Name='OpenAI']/Table[@Name='OrderDetail' and @Schema='dbo']",
                "object_type": "Table",
                "azdata_cell_guid": "fd5c8efe-f880-4ddf-963e-1071a9c28e2a",
                "language": "sql"
            },
            "outputs": [],
            "execution_count": null
        },
        {
            "cell_type": "markdown",
            "source": [
                "# [dbo].[OrderDetailTopping]"
            ],
            "metadata": {
                "urn": "Server[@Name='RyWork\\LOCALDB#C1D23680']/Database[@Name='OpenAI']/Table[@Name='OrderDetailTopping' and @Schema='dbo']",
                "object_type": "Table",
                "azdata_cell_guid": "ff3c8f86-802c-4468-9dce-99d3f6a6fab5"
            }
        },
        {
            "cell_type": "code",
            "source": [
                "/****** Object:  Table [dbo].[OrderDetailTopping]    Script Date: 2023/5/15 下午 08:37:22 ******/\r\nSET ANSI_NULLS ON\r\n",
                "GO\r\n",
                "SET QUOTED_IDENTIFIER ON\r\n",
                "GO\r\n",
                "CREATE TABLE [dbo].[OrderDetailTopping](\r\n\t[ID] [uniqueidentifier] NOT NULL,\r\n\t[OrderDetailID] [uniqueidentifier] NOT NULL,\r\n\t[ToppingID] [uniqueidentifier] NOT NULL,\r\n\t[Value] [int] NOT NULL,\r\n\t[Memo] [nvarchar](300) NOT NULL,\r\n\t[CreatedDatetime] [datetime] NOT NULL,\r\n\t[UpdateDatetime] [datetime] NOT NULL,\r\nPRIMARY KEY CLUSTERED \r\n(\r\n\t[ID] ASC\r\n)WITH (PAD_INDEX = OFF, STATISTICS_NORECOMPUTE = OFF, IGNORE_DUP_KEY = OFF, ALLOW_ROW_LOCKS = ON, ALLOW_PAGE_LOCKS = ON) ON [PRIMARY]\r\n) ON [PRIMARY]\r\nGO\r\n"
            ],
            "metadata": {
                "urn": "Server[@Name='RyWork\\LOCALDB#C1D23680']/Database[@Name='OpenAI']/Table[@Name='OrderDetailTopping' and @Schema='dbo']",
                "object_type": "Table",
                "azdata_cell_guid": "d7a7d6dc-a19c-4e5c-983d-e512de6acac1",
                "language": "sql"
            },
            "outputs": [],
            "execution_count": null
        },
        {
            "cell_type": "markdown",
            "source": [
                "# [dbo].[Size]"
            ],
            "metadata": {
                "urn": "Server[@Name='RyWork\\LOCALDB#C1D23680']/Database[@Name='OpenAI']/Table[@Name='Size' and @Schema='dbo']",
                "object_type": "Table",
                "azdata_cell_guid": "b78b0e59-8cb2-4624-8b0e-3f381eec6f38"
            }
        },
        {
            "cell_type": "code",
            "source": [
                "/****** Object:  Table [dbo].[Size]    Script Date: 2023/5/15 下午 08:37:22 ******/\r\nSET ANSI_NULLS ON\r\n",
                "GO\r\n",
                "SET QUOTED_IDENTIFIER ON\r\n",
                "GO\r\n",
                "CREATE TABLE [dbo].[Size](\r\n\t[ID] [uniqueidentifier] NOT NULL,\r\n\t[Name] [nvarchar](50) NOT NULL,\r\n\t[Value] [int] NOT NULL,\r\n\t[CreatedDatetime] [datetime] NOT NULL,\r\n\t[UpdateDatetime] [datetime] NOT NULL,\r\nPRIMARY KEY CLUSTERED \r\n(\r\n\t[ID] ASC\r\n)WITH (PAD_INDEX = OFF, STATISTICS_NORECOMPUTE = OFF, IGNORE_DUP_KEY = OFF, ALLOW_ROW_LOCKS = ON, ALLOW_PAGE_LOCKS = ON) ON [PRIMARY]\r\n) ON [PRIMARY]\r\nGO\r\n"
            ],
            "metadata": {
                "urn": "Server[@Name='RyWork\\LOCALDB#C1D23680']/Database[@Name='OpenAI']/Table[@Name='Size' and @Schema='dbo']",
                "object_type": "Table",
                "azdata_cell_guid": "acf182e3-1116-472d-bc68-61a8de596f06",
                "language": "sql"
            },
            "outputs": [],
            "execution_count": null
        },
        {
            "cell_type": "markdown",
            "source": [
                "# [dbo].[Suger]"
            ],
            "metadata": {
                "urn": "Server[@Name='RyWork\\LOCALDB#C1D23680']/Database[@Name='OpenAI']/Table[@Name='Suger' and @Schema='dbo']",
                "object_type": "Table",
                "azdata_cell_guid": "a4953966-001e-4fd5-8452-91929d62aab8"
            }
        },
        {
            "cell_type": "code",
            "source": [
                "/****** Object:  Table [dbo].[Suger]    Script Date: 2023/5/15 下午 08:37:22 ******/\r\nSET ANSI_NULLS ON\r\n",
                "GO\r\n",
                "SET QUOTED_IDENTIFIER ON\r\n",
                "GO\r\n",
                "CREATE TABLE [dbo].[Suger](\r\n\t[ID] [uniqueidentifier] NOT NULL,\r\n\t[Name] [nvarchar](50) NOT NULL,\r\n\t[CreatedDatetime] [datetime] NOT NULL,\r\n\t[UpdateDatetime] [datetime] NOT NULL,\r\nPRIMARY KEY CLUSTERED \r\n(\r\n\t[ID] ASC\r\n)WITH (PAD_INDEX = OFF, STATISTICS_NORECOMPUTE = OFF, IGNORE_DUP_KEY = OFF, ALLOW_ROW_LOCKS = ON, ALLOW_PAGE_LOCKS = ON) ON [PRIMARY]\r\n) ON [PRIMARY]\r\nGO\r\n"
            ],
            "metadata": {
                "urn": "Server[@Name='RyWork\\LOCALDB#C1D23680']/Database[@Name='OpenAI']/Table[@Name='Suger' and @Schema='dbo']",
                "object_type": "Table",
                "azdata_cell_guid": "e9cf5301-ead1-44f4-a528-8311f49d1aa2",
                "language": "sql"
            },
            "outputs": [],
            "execution_count": null
        },
        {
            "cell_type": "markdown",
            "source": [
                "# [dbo].[Topping]"
            ],
            "metadata": {
                "urn": "Server[@Name='RyWork\\LOCALDB#C1D23680']/Database[@Name='OpenAI']/Table[@Name='Topping' and @Schema='dbo']",
                "object_type": "Table",
                "azdata_cell_guid": "7fa7b921-b6cb-41ea-b111-3789a09357ac"
            }
        },
        {
            "cell_type": "code",
            "source": [
                "/****** Object:  Table [dbo].[Topping]    Script Date: 2023/5/15 下午 08:37:22 ******/\r\nSET ANSI_NULLS ON\r\n",
                "GO\r\n",
                "SET QUOTED_IDENTIFIER ON\r\n",
                "GO\r\n",
                "CREATE TABLE [dbo].[Topping](\r\n\t[ID] [uniqueidentifier] NOT NULL,\r\n\t[Name] [nvarchar](50) NOT NULL,\r\n\t[Value] [int] NOT NULL,\r\n\t[CreatedDatetime] [datetime] NOT NULL,\r\n\t[UpdateDatetime] [datetime] NOT NULL,\r\nPRIMARY KEY CLUSTERED \r\n(\r\n\t[ID] ASC\r\n)WITH (PAD_INDEX = OFF, STATISTICS_NORECOMPUTE = OFF, IGNORE_DUP_KEY = OFF, ALLOW_ROW_LOCKS = ON, ALLOW_PAGE_LOCKS = ON) ON [PRIMARY]\r\n) ON [PRIMARY]\r\nGO\r\n"
            ],
            "metadata": {
                "urn": "Server[@Name='RyWork\\LOCALDB#C1D23680']/Database[@Name='OpenAI']/Table[@Name='Topping' and @Schema='dbo']",
                "object_type": "Table",
                "azdata_cell_guid": "2ea7fd60-baa9-4cdf-b08a-5fab416416b1",
                "language": "sql"
            },
            "outputs": [],
            "execution_count": null
        },
        {
            "cell_type": "markdown",
            "source": [
                "# [dbo].[ToppingStore]"
            ],
            "metadata": {
                "urn": "Server[@Name='RyWork\\LOCALDB#C1D23680']/Database[@Name='OpenAI']/Table[@Name='ToppingStore' and @Schema='dbo']",
                "object_type": "Table",
                "azdata_cell_guid": "35299b1e-c97d-4b19-98bc-1c065c0d2109"
            }
        },
        {
            "cell_type": "code",
            "source": [
                "/****** Object:  Table [dbo].[ToppingStore]    Script Date: 2023/5/15 下午 08:37:22 ******/\r\nSET ANSI_NULLS ON\r\n",
                "GO\r\n",
                "SET QUOTED_IDENTIFIER ON\r\n",
                "GO\r\n",
                "CREATE TABLE [dbo].[ToppingStore](\r\n\t[ID] [uniqueidentifier] NOT NULL,\r\n\t[ToppingID] [uniqueidentifier] NOT NULL,\r\n\t[Count] [int] NOT NULL,\r\n\t[CreatedDatetime] [datetime] NOT NULL,\r\n\t[UpdateDatetime] [datetime] NOT NULL,\r\nPRIMARY KEY CLUSTERED \r\n(\r\n\t[ID] ASC\r\n)WITH (PAD_INDEX = OFF, STATISTICS_NORECOMPUTE = OFF, IGNORE_DUP_KEY = OFF, ALLOW_ROW_LOCKS = ON, ALLOW_PAGE_LOCKS = ON) ON [PRIMARY]\r\n) ON [PRIMARY]\r\nGO\r\n"
            ],
            "metadata": {
                "urn": "Server[@Name='RyWork\\LOCALDB#C1D23680']/Database[@Name='OpenAI']/Table[@Name='ToppingStore' and @Schema='dbo']",
                "object_type": "Table",
                "azdata_cell_guid": "9be45fbc-5326-4a9b-96da-bd09c87922ff",
                "language": "sql"
            },
            "outputs": [],
            "execution_count": null
        },
        {
            "cell_type": "markdown",
            "source": [
                "# [dbo].[User]"
            ],
            "metadata": {
                "urn": "Server[@Name='RyWork\\LOCALDB#C1D23680']/Database[@Name='OpenAI']/Table[@Name='User' and @Schema='dbo']",
                "object_type": "Table",
                "azdata_cell_guid": "cc068c56-0add-4704-8eb8-9d85d843a4ca"
            }
        },
        {
            "cell_type": "code",
            "source": [
                "/****** Object:  Table [dbo].[User]    Script Date: 2023/5/15 下午 08:37:22 ******/\r\nSET ANSI_NULLS ON\r\n",
                "GO\r\n",
                "SET QUOTED_IDENTIFIER ON\r\n",
                "GO\r\n",
                "CREATE TABLE [dbo].[User](\r\n\t[ID] [uniqueidentifier] NOT NULL,\r\n\t[Name] [nvarchar](50) NOT NULL,\r\n\t[Account] [nvarchar](50) NOT NULL,\r\n\t[Password] [nvarchar](100) NOT NULL,\r\n\t[CreatedDatetime] [datetime] NOT NULL,\r\n\t[UpdateDatetime] [datetime] NOT NULL,\r\nPRIMARY KEY CLUSTERED \r\n(\r\n\t[ID] ASC\r\n)WITH (PAD_INDEX = OFF, STATISTICS_NORECOMPUTE = OFF, IGNORE_DUP_KEY = OFF, ALLOW_ROW_LOCKS = ON, ALLOW_PAGE_LOCKS = ON) ON [PRIMARY]\r\n) ON [PRIMARY]\r\nGO\r\n"
            ],
            "metadata": {
                "urn": "Server[@Name='RyWork\\LOCALDB#C1D23680']/Database[@Name='OpenAI']/Table[@Name='User' and @Schema='dbo']",
                "object_type": "Table",
                "azdata_cell_guid": "4d436be4-6584-4871-b2d9-00e51d257fef",
                "language": "sql"
            },
            "outputs": [],
            "execution_count": null
        },
        {
            "cell_type": "markdown",
            "source": [
                "# [FK_AvailableIce_Ice]"
            ],
            "metadata": {
                "urn": "Server[@Name='RyWork\\LOCALDB#C1D23680']/Database[@Name='OpenAI']/Table[@Name='AvailableIce' and @Schema='dbo']/ForeignKey[@Name='FK_AvailableIce_Ice']",
                "object_type": "ForeignKey",
                "azdata_cell_guid": "77f6f8ff-f7a2-4187-b406-67107348e568"
            }
        },
        {
            "cell_type": "code",
            "source": [
                "ALTER TABLE [dbo].[AvailableIce]  WITH CHECK ADD  CONSTRAINT [FK_AvailableIce_Ice] FOREIGN KEY([IceID])\r\nREFERENCES [dbo].[Ice] ([ID])\r\n",
                "GO\r\n",
                "ALTER TABLE [dbo].[AvailableIce] CHECK CONSTRAINT [FK_AvailableIce_Ice]\r\n",
                "GO\r\n"
            ],
            "metadata": {
                "urn": "Server[@Name='RyWork\\LOCALDB#C1D23680']/Database[@Name='OpenAI']/Table[@Name='AvailableIce' and @Schema='dbo']/ForeignKey[@Name='FK_AvailableIce_Ice']",
                "object_type": "ForeignKey",
                "azdata_cell_guid": "46d5defa-3fcd-4954-bd55-ce9e2347e98d",
                "language": "sql"
            },
            "outputs": [],
            "execution_count": null
        },
        {
            "cell_type": "markdown",
            "source": [
                "# [FK_AvailableIce_MenuItem]"
            ],
            "metadata": {
                "urn": "Server[@Name='RyWork\\LOCALDB#C1D23680']/Database[@Name='OpenAI']/Table[@Name='AvailableIce' and @Schema='dbo']/ForeignKey[@Name='FK_AvailableIce_MenuItem']",
                "object_type": "ForeignKey",
                "azdata_cell_guid": "b6e88964-ceae-4567-ab7c-0acc1e09630d"
            }
        },
        {
            "cell_type": "code",
            "source": [
                "ALTER TABLE [dbo].[AvailableIce]  WITH CHECK ADD  CONSTRAINT [FK_AvailableIce_MenuItem] FOREIGN KEY([MenuItemID])\r\nREFERENCES [dbo].[MenuItem] ([ID])\r\n",
                "GO\r\n",
                "ALTER TABLE [dbo].[AvailableIce] CHECK CONSTRAINT [FK_AvailableIce_MenuItem]\r\n",
                "GO\r\n"
            ],
            "metadata": {
                "urn": "Server[@Name='RyWork\\LOCALDB#C1D23680']/Database[@Name='OpenAI']/Table[@Name='AvailableIce' and @Schema='dbo']/ForeignKey[@Name='FK_AvailableIce_MenuItem']",
                "object_type": "ForeignKey",
                "azdata_cell_guid": "c2a87fcd-82a4-4f48-a693-437cb67f1fe4",
                "language": "sql"
            },
            "outputs": [],
            "execution_count": null
        },
        {
            "cell_type": "markdown",
            "source": [
                "# [FK_AvailableSize_MenuItem]"
            ],
            "metadata": {
                "urn": "Server[@Name='RyWork\\LOCALDB#C1D23680']/Database[@Name='OpenAI']/Table[@Name='AvailableSize' and @Schema='dbo']/ForeignKey[@Name='FK_AvailableSize_MenuItem']",
                "object_type": "ForeignKey",
                "azdata_cell_guid": "dfcc266a-2e76-4f24-b5e8-17ec0be10fbe"
            }
        },
        {
            "cell_type": "code",
            "source": [
                "ALTER TABLE [dbo].[AvailableSize]  WITH CHECK ADD  CONSTRAINT [FK_AvailableSize_MenuItem] FOREIGN KEY([MenuItemID])\r\nREFERENCES [dbo].[MenuItem] ([ID])\r\n",
                "GO\r\n",
                "ALTER TABLE [dbo].[AvailableSize] CHECK CONSTRAINT [FK_AvailableSize_MenuItem]\r\n",
                "GO\r\n"
            ],
            "metadata": {
                "urn": "Server[@Name='RyWork\\LOCALDB#C1D23680']/Database[@Name='OpenAI']/Table[@Name='AvailableSize' and @Schema='dbo']/ForeignKey[@Name='FK_AvailableSize_MenuItem']",
                "object_type": "ForeignKey",
                "azdata_cell_guid": "6dfaa6a6-b8d2-4ace-a232-57999d312a18",
                "language": "sql"
            },
            "outputs": [],
            "execution_count": null
        },
        {
            "cell_type": "markdown",
            "source": [
                "# [FK_AvailableSize_Size]"
            ],
            "metadata": {
                "urn": "Server[@Name='RyWork\\LOCALDB#C1D23680']/Database[@Name='OpenAI']/Table[@Name='AvailableSize' and @Schema='dbo']/ForeignKey[@Name='FK_AvailableSize_Size']",
                "object_type": "ForeignKey",
                "azdata_cell_guid": "54785f12-3aa1-401c-a704-62a03cbdfe8b"
            }
        },
        {
            "cell_type": "code",
            "source": [
                "ALTER TABLE [dbo].[AvailableSize]  WITH CHECK ADD  CONSTRAINT [FK_AvailableSize_Size] FOREIGN KEY([SizeID])\r\nREFERENCES [dbo].[Size] ([ID])\r\n",
                "GO\r\n",
                "ALTER TABLE [dbo].[AvailableSize] CHECK CONSTRAINT [FK_AvailableSize_Size]\r\n",
                "GO\r\n"
            ],
            "metadata": {
                "urn": "Server[@Name='RyWork\\LOCALDB#C1D23680']/Database[@Name='OpenAI']/Table[@Name='AvailableSize' and @Schema='dbo']/ForeignKey[@Name='FK_AvailableSize_Size']",
                "object_type": "ForeignKey",
                "azdata_cell_guid": "696536e3-3314-4774-b8d5-f937ab4f1905",
                "language": "sql"
            },
            "outputs": [],
            "execution_count": null
        },
        {
            "cell_type": "markdown",
            "source": [
                "# [FK_AvailableSuger_MenuItem]"
            ],
            "metadata": {
                "urn": "Server[@Name='RyWork\\LOCALDB#C1D23680']/Database[@Name='OpenAI']/Table[@Name='AvailableSuger' and @Schema='dbo']/ForeignKey[@Name='FK_AvailableSuger_MenuItem']",
                "object_type": "ForeignKey",
                "azdata_cell_guid": "f4b842e3-05ac-4d05-b583-376e0d15787b"
            }
        },
        {
            "cell_type": "code",
            "source": [
                "ALTER TABLE [dbo].[AvailableSuger]  WITH CHECK ADD  CONSTRAINT [FK_AvailableSuger_MenuItem] FOREIGN KEY([MenuItemID])\r\nREFERENCES [dbo].[MenuItem] ([ID])\r\n",
                "GO\r\n",
                "ALTER TABLE [dbo].[AvailableSuger] CHECK CONSTRAINT [FK_AvailableSuger_MenuItem]\r\n",
                "GO\r\n"
            ],
            "metadata": {
                "urn": "Server[@Name='RyWork\\LOCALDB#C1D23680']/Database[@Name='OpenAI']/Table[@Name='AvailableSuger' and @Schema='dbo']/ForeignKey[@Name='FK_AvailableSuger_MenuItem']",
                "object_type": "ForeignKey",
                "azdata_cell_guid": "9806a1b9-e213-40ea-8765-175b220339b5",
                "language": "sql"
            },
            "outputs": [],
            "execution_count": null
        },
        {
            "cell_type": "markdown",
            "source": [
                "# [FK_AvailableSuger_Suger]"
            ],
            "metadata": {
                "urn": "Server[@Name='RyWork\\LOCALDB#C1D23680']/Database[@Name='OpenAI']/Table[@Name='AvailableSuger' and @Schema='dbo']/ForeignKey[@Name='FK_AvailableSuger_Suger']",
                "object_type": "ForeignKey",
                "azdata_cell_guid": "784d87f7-f745-4a5d-a5d7-330b89be396d"
            }
        },
        {
            "cell_type": "code",
            "source": [
                "ALTER TABLE [dbo].[AvailableSuger]  WITH CHECK ADD  CONSTRAINT [FK_AvailableSuger_Suger] FOREIGN KEY([SugerID])\r\nREFERENCES [dbo].[Suger] ([ID])\r\n",
                "GO\r\n",
                "ALTER TABLE [dbo].[AvailableSuger] CHECK CONSTRAINT [FK_AvailableSuger_Suger]\r\n",
                "GO\r\n"
            ],
            "metadata": {
                "urn": "Server[@Name='RyWork\\LOCALDB#C1D23680']/Database[@Name='OpenAI']/Table[@Name='AvailableSuger' and @Schema='dbo']/ForeignKey[@Name='FK_AvailableSuger_Suger']",
                "object_type": "ForeignKey",
                "azdata_cell_guid": "1b268727-416a-418e-bd3f-f23d66dc61fc",
                "language": "sql"
            },
            "outputs": [],
            "execution_count": null
        },
        {
            "cell_type": "markdown",
            "source": [
                "# [FK_AvailableTopping_MenuItem]"
            ],
            "metadata": {
                "urn": "Server[@Name='RyWork\\LOCALDB#C1D23680']/Database[@Name='OpenAI']/Table[@Name='AvailableTopping' and @Schema='dbo']/ForeignKey[@Name='FK_AvailableTopping_MenuItem']",
                "object_type": "ForeignKey",
                "azdata_cell_guid": "192acf37-f798-4f4f-8358-91361632e56e"
            }
        },
        {
            "cell_type": "code",
            "source": [
                "ALTER TABLE [dbo].[AvailableTopping]  WITH CHECK ADD  CONSTRAINT [FK_AvailableTopping_MenuItem] FOREIGN KEY([MenuItemID])\r\nREFERENCES [dbo].[MenuItem] ([ID])\r\n",
                "GO\r\n",
                "ALTER TABLE [dbo].[AvailableTopping] CHECK CONSTRAINT [FK_AvailableTopping_MenuItem]\r\n",
                "GO\r\n"
            ],
            "metadata": {
                "urn": "Server[@Name='RyWork\\LOCALDB#C1D23680']/Database[@Name='OpenAI']/Table[@Name='AvailableTopping' and @Schema='dbo']/ForeignKey[@Name='FK_AvailableTopping_MenuItem']",
                "object_type": "ForeignKey",
                "azdata_cell_guid": "b712c0bc-24c0-43f9-86a0-4eef413622d7",
                "language": "sql"
            },
            "outputs": [],
            "execution_count": null
        },
        {
            "cell_type": "markdown",
            "source": [
                "# [FK_AvailableTopping_Topping]"
            ],
            "metadata": {
                "urn": "Server[@Name='RyWork\\LOCALDB#C1D23680']/Database[@Name='OpenAI']/Table[@Name='AvailableTopping' and @Schema='dbo']/ForeignKey[@Name='FK_AvailableTopping_Topping']",
                "object_type": "ForeignKey",
                "azdata_cell_guid": "f0fda838-8e81-477e-93df-161d264df646"
            }
        },
        {
            "cell_type": "code",
            "source": [
                "ALTER TABLE [dbo].[AvailableTopping]  WITH CHECK ADD  CONSTRAINT [FK_AvailableTopping_Topping] FOREIGN KEY([ToppingID])\r\nREFERENCES [dbo].[Topping] ([ID])\r\n",
                "GO\r\n",
                "ALTER TABLE [dbo].[AvailableTopping] CHECK CONSTRAINT [FK_AvailableTopping_Topping]\r\n",
                "GO\r\n"
            ],
            "metadata": {
                "urn": "Server[@Name='RyWork\\LOCALDB#C1D23680']/Database[@Name='OpenAI']/Table[@Name='AvailableTopping' and @Schema='dbo']/ForeignKey[@Name='FK_AvailableTopping_Topping']",
                "object_type": "ForeignKey",
                "azdata_cell_guid": "0f5308ff-4aa6-4025-89b5-aa204a660e30",
                "language": "sql"
            },
            "outputs": [],
            "execution_count": null
        },
        {
            "cell_type": "markdown",
            "source": [
                "# [FK_Conversation_User]"
            ],
            "metadata": {
                "urn": "Server[@Name='RyWork\\LOCALDB#C1D23680']/Database[@Name='OpenAI']/Table[@Name='Conversation' and @Schema='dbo']/ForeignKey[@Name='FK_Conversation_User']",
                "object_type": "ForeignKey",
                "azdata_cell_guid": "d1142063-56eb-4b88-aca9-9fb299e9f648"
            }
        },
        {
            "cell_type": "code",
            "source": [
                "ALTER TABLE [dbo].[Conversation]  WITH CHECK ADD  CONSTRAINT [FK_Conversation_User] FOREIGN KEY([UserID])\r\nREFERENCES [dbo].[User] ([ID])\r\n",
                "GO\r\n",
                "ALTER TABLE [dbo].[Conversation] CHECK CONSTRAINT [FK_Conversation_User]\r\n",
                "GO\r\n"
            ],
            "metadata": {
                "urn": "Server[@Name='RyWork\\LOCALDB#C1D23680']/Database[@Name='OpenAI']/Table[@Name='Conversation' and @Schema='dbo']/ForeignKey[@Name='FK_Conversation_User']",
                "object_type": "ForeignKey",
                "azdata_cell_guid": "8cb333e9-37ec-4562-a3e6-3af9c7b44e08",
                "language": "sql"
            },
            "outputs": [],
            "execution_count": null
        },
        {
            "cell_type": "markdown",
            "source": [
                "# [FK_IPBlocker_User]"
            ],
            "metadata": {
                "urn": "Server[@Name='RyWork\\LOCALDB#C1D23680']/Database[@Name='OpenAI']/Table[@Name='IPBlocker' and @Schema='dbo']/ForeignKey[@Name='FK_IPBlocker_User']",
                "object_type": "ForeignKey",
                "azdata_cell_guid": "34955e0b-50d1-40c5-862b-3b280c07b8eb"
            }
        },
        {
            "cell_type": "code",
            "source": [
                "ALTER TABLE [dbo].[IPBlocker]  WITH CHECK ADD  CONSTRAINT [FK_IPBlocker_User] FOREIGN KEY([UserID])\r\nREFERENCES [dbo].[User] ([ID])\r\n",
                "GO\r\n",
                "ALTER TABLE [dbo].[IPBlocker] CHECK CONSTRAINT [FK_IPBlocker_User]\r\n",
                "GO\r\n"
            ],
            "metadata": {
                "urn": "Server[@Name='RyWork\\LOCALDB#C1D23680']/Database[@Name='OpenAI']/Table[@Name='IPBlocker' and @Schema='dbo']/ForeignKey[@Name='FK_IPBlocker_User']",
                "object_type": "ForeignKey",
                "azdata_cell_guid": "ad6b9fc2-c109-48e6-9abc-65268b2c1abb",
                "language": "sql"
            },
            "outputs": [],
            "execution_count": null
        },
        {
            "cell_type": "markdown",
            "source": [
                "# [FK_ItemStore_MenuItem]"
            ],
            "metadata": {
                "urn": "Server[@Name='RyWork\\LOCALDB#C1D23680']/Database[@Name='OpenAI']/Table[@Name='ItemStore' and @Schema='dbo']/ForeignKey[@Name='FK_ItemStore_MenuItem']",
                "object_type": "ForeignKey",
                "azdata_cell_guid": "083af4e7-530c-472a-ad0f-8b4aa750be44"
            }
        },
        {
            "cell_type": "code",
            "source": [
                "ALTER TABLE [dbo].[ItemStore]  WITH CHECK ADD  CONSTRAINT [FK_ItemStore_MenuItem] FOREIGN KEY([MenuItemID])\r\nREFERENCES [dbo].[MenuItem] ([ID])\r\n",
                "GO\r\n",
                "ALTER TABLE [dbo].[ItemStore] CHECK CONSTRAINT [FK_ItemStore_MenuItem]\r\n",
                "GO\r\n"
            ],
            "metadata": {
                "urn": "Server[@Name='RyWork\\LOCALDB#C1D23680']/Database[@Name='OpenAI']/Table[@Name='ItemStore' and @Schema='dbo']/ForeignKey[@Name='FK_ItemStore_MenuItem']",
                "object_type": "ForeignKey",
                "azdata_cell_guid": "a5d8dc04-3273-44a0-821e-ad06a84fe6a9",
                "language": "sql"
            },
            "outputs": [],
            "execution_count": null
        },
        {
            "cell_type": "markdown",
            "source": [
                "# [FK_LoginLog_User]"
            ],
            "metadata": {
                "urn": "Server[@Name='RyWork\\LOCALDB#C1D23680']/Database[@Name='OpenAI']/Table[@Name='LoginLog' and @Schema='dbo']/ForeignKey[@Name='FK_LoginLog_User']",
                "object_type": "ForeignKey",
                "azdata_cell_guid": "cda10bae-fae3-499d-a8d3-b61cf716ccaa"
            }
        },
        {
            "cell_type": "code",
            "source": [
                "ALTER TABLE [dbo].[LoginLog]  WITH CHECK ADD  CONSTRAINT [FK_LoginLog_User] FOREIGN KEY([UserID])\r\nREFERENCES [dbo].[User] ([ID])\r\n",
                "GO\r\n",
                "ALTER TABLE [dbo].[LoginLog] CHECK CONSTRAINT [FK_LoginLog_User]\r\n",
                "GO\r\n"
            ],
            "metadata": {
                "urn": "Server[@Name='RyWork\\LOCALDB#C1D23680']/Database[@Name='OpenAI']/Table[@Name='LoginLog' and @Schema='dbo']/ForeignKey[@Name='FK_LoginLog_User']",
                "object_type": "ForeignKey",
                "azdata_cell_guid": "b94fd310-34fe-4aa6-8fac-810d77e60cdc",
                "language": "sql"
            },
            "outputs": [],
            "execution_count": null
        },
        {
            "cell_type": "markdown",
            "source": [
                "# [FK_MenuItem_MenuItem]"
            ],
            "metadata": {
                "urn": "Server[@Name='RyWork\\LOCALDB#C1D23680']/Database[@Name='OpenAI']/Table[@Name='MenuItem' and @Schema='dbo']/ForeignKey[@Name='FK_MenuItem_MenuItem']",
                "object_type": "ForeignKey",
                "azdata_cell_guid": "e3f019a8-95d7-421e-ae61-836cd8e7a0be"
            }
        },
        {
            "cell_type": "code",
            "source": [
                "ALTER TABLE [dbo].[MenuItem]  WITH CHECK ADD  CONSTRAINT [FK_MenuItem_MenuItem] FOREIGN KEY([MenuItemTypeID])\r\nREFERENCES [dbo].[MenuItemType] ([ID])\r\n",
                "GO\r\n",
                "ALTER TABLE [dbo].[MenuItem] CHECK CONSTRAINT [FK_MenuItem_MenuItem]\r\n",
                "GO\r\n"
            ],
            "metadata": {
                "urn": "Server[@Name='RyWork\\LOCALDB#C1D23680']/Database[@Name='OpenAI']/Table[@Name='MenuItem' and @Schema='dbo']/ForeignKey[@Name='FK_MenuItem_MenuItem']",
                "object_type": "ForeignKey",
                "azdata_cell_guid": "8d286d50-61e1-411e-be43-5ccdad5d6326",
                "language": "sql"
            },
            "outputs": [],
            "execution_count": null
        },
        {
            "cell_type": "markdown",
            "source": [
                "# [FK_Message_Conversation]"
            ],
            "metadata": {
                "urn": "Server[@Name='RyWork\\LOCALDB#C1D23680']/Database[@Name='OpenAI']/Table[@Name='Message' and @Schema='dbo']/ForeignKey[@Name='FK_Message_Conversation']",
                "object_type": "ForeignKey",
                "azdata_cell_guid": "fae452d3-7c2b-4907-be94-395c5087a5c0"
            }
        },
        {
            "cell_type": "code",
            "source": [
                "ALTER TABLE [dbo].[Message]  WITH CHECK ADD  CONSTRAINT [FK_Message_Conversation] FOREIGN KEY([ConversationID])\r\nREFERENCES [dbo].[Conversation] ([ID])\r\n",
                "GO\r\n",
                "ALTER TABLE [dbo].[Message] CHECK CONSTRAINT [FK_Message_Conversation]\r\n",
                "GO\r\n"
            ],
            "metadata": {
                "urn": "Server[@Name='RyWork\\LOCALDB#C1D23680']/Database[@Name='OpenAI']/Table[@Name='Message' and @Schema='dbo']/ForeignKey[@Name='FK_Message_Conversation']",
                "object_type": "ForeignKey",
                "azdata_cell_guid": "910dab5b-536f-42e4-9111-1374ab7de3c3",
                "language": "sql"
            },
            "outputs": [],
            "execution_count": null
        },
        {
            "cell_type": "markdown",
            "source": [
                "# [FK_Order_Message]"
            ],
            "metadata": {
                "urn": "Server[@Name='RyWork\\LOCALDB#C1D23680']/Database[@Name='OpenAI']/Table[@Name='Order' and @Schema='dbo']/ForeignKey[@Name='FK_Order_Message']",
                "object_type": "ForeignKey",
                "azdata_cell_guid": "cfd8f7f8-7f0a-442e-8631-9f5b437ed4c4"
            }
        },
        {
            "cell_type": "code",
            "source": [
                "ALTER TABLE [dbo].[Order]  WITH CHECK ADD  CONSTRAINT [FK_Order_Message] FOREIGN KEY([MessageID])\r\nREFERENCES [dbo].[Message] ([ID])\r\n",
                "GO\r\n",
                "ALTER TABLE [dbo].[Order] CHECK CONSTRAINT [FK_Order_Message]\r\n",
                "GO\r\n"
            ],
            "metadata": {
                "urn": "Server[@Name='RyWork\\LOCALDB#C1D23680']/Database[@Name='OpenAI']/Table[@Name='Order' and @Schema='dbo']/ForeignKey[@Name='FK_Order_Message']",
                "object_type": "ForeignKey",
                "azdata_cell_guid": "2d16c6dc-32d7-4712-b1c2-93c45902e1bc",
                "language": "sql"
            },
            "outputs": [],
            "execution_count": null
        },
        {
            "cell_type": "markdown",
            "source": [
                "# [FK_Order_User]"
            ],
            "metadata": {
                "urn": "Server[@Name='RyWork\\LOCALDB#C1D23680']/Database[@Name='OpenAI']/Table[@Name='Order' and @Schema='dbo']/ForeignKey[@Name='FK_Order_User']",
                "object_type": "ForeignKey",
                "azdata_cell_guid": "606a1872-d458-4426-8c7a-53816fb6bf85"
            }
        },
        {
            "cell_type": "code",
            "source": [
                "ALTER TABLE [dbo].[Order]  WITH CHECK ADD  CONSTRAINT [FK_Order_User] FOREIGN KEY([UserID])\r\nREFERENCES [dbo].[User] ([ID])\r\n",
                "GO\r\n",
                "ALTER TABLE [dbo].[Order] CHECK CONSTRAINT [FK_Order_User]\r\n",
                "GO\r\n"
            ],
            "metadata": {
                "urn": "Server[@Name='RyWork\\LOCALDB#C1D23680']/Database[@Name='OpenAI']/Table[@Name='Order' and @Schema='dbo']/ForeignKey[@Name='FK_Order_User']",
                "object_type": "ForeignKey",
                "azdata_cell_guid": "7ed79672-09cc-4e78-a568-0691292925b5",
                "language": "sql"
            },
            "outputs": [],
            "execution_count": null
        },
        {
            "cell_type": "markdown",
            "source": [
                "# [FK_OrderDetail_Ice]"
            ],
            "metadata": {
                "urn": "Server[@Name='RyWork\\LOCALDB#C1D23680']/Database[@Name='OpenAI']/Table[@Name='OrderDetail' and @Schema='dbo']/ForeignKey[@Name='FK_OrderDetail_Ice']",
                "object_type": "ForeignKey",
                "azdata_cell_guid": "c40d3f93-a2d2-4a85-a97a-0d06c9b187ad"
            }
        },
        {
            "cell_type": "code",
            "source": [
                "ALTER TABLE [dbo].[OrderDetail]  WITH CHECK ADD  CONSTRAINT [FK_OrderDetail_Ice] FOREIGN KEY([IceID])\r\nREFERENCES [dbo].[Ice] ([ID])\r\n",
                "GO\r\n",
                "ALTER TABLE [dbo].[OrderDetail] CHECK CONSTRAINT [FK_OrderDetail_Ice]\r\n",
                "GO\r\n"
            ],
            "metadata": {
                "urn": "Server[@Name='RyWork\\LOCALDB#C1D23680']/Database[@Name='OpenAI']/Table[@Name='OrderDetail' and @Schema='dbo']/ForeignKey[@Name='FK_OrderDetail_Ice']",
                "object_type": "ForeignKey",
                "azdata_cell_guid": "b0d15f0c-fb07-4956-8fb3-bc570192eba2",
                "language": "sql"
            },
            "outputs": [],
            "execution_count": null
        },
        {
            "cell_type": "markdown",
            "source": [
                "# [FK_OrderDetail_Order]"
            ],
            "metadata": {
                "urn": "Server[@Name='RyWork\\LOCALDB#C1D23680']/Database[@Name='OpenAI']/Table[@Name='OrderDetail' and @Schema='dbo']/ForeignKey[@Name='FK_OrderDetail_Order']",
                "object_type": "ForeignKey",
                "azdata_cell_guid": "eb2fda70-253f-4617-a979-3e4dc677ae60"
            }
        },
        {
            "cell_type": "code",
            "source": [
                "ALTER TABLE [dbo].[OrderDetail]  WITH CHECK ADD  CONSTRAINT [FK_OrderDetail_Order] FOREIGN KEY([OrderID])\r\nREFERENCES [dbo].[Order] ([ID])\r\n",
                "GO\r\n",
                "ALTER TABLE [dbo].[OrderDetail] CHECK CONSTRAINT [FK_OrderDetail_Order]\r\n",
                "GO\r\n"
            ],
            "metadata": {
                "urn": "Server[@Name='RyWork\\LOCALDB#C1D23680']/Database[@Name='OpenAI']/Table[@Name='OrderDetail' and @Schema='dbo']/ForeignKey[@Name='FK_OrderDetail_Order']",
                "object_type": "ForeignKey",
                "azdata_cell_guid": "5ac9f6b9-4b3b-48ed-bf48-7050fc17160a",
                "language": "sql"
            },
            "outputs": [],
            "execution_count": null
        },
        {
            "cell_type": "markdown",
            "source": [
                "# [FK_OrderDetail_Size]"
            ],
            "metadata": {
                "urn": "Server[@Name='RyWork\\LOCALDB#C1D23680']/Database[@Name='OpenAI']/Table[@Name='OrderDetail' and @Schema='dbo']/ForeignKey[@Name='FK_OrderDetail_Size']",
                "object_type": "ForeignKey",
                "azdata_cell_guid": "72b60284-8952-4689-8e40-652adfb22c6a"
            }
        },
        {
            "cell_type": "code",
            "source": [
                "ALTER TABLE [dbo].[OrderDetail]  WITH CHECK ADD  CONSTRAINT [FK_OrderDetail_Size] FOREIGN KEY([SizeID])\r\nREFERENCES [dbo].[Size] ([ID])\r\n",
                "GO\r\n",
                "ALTER TABLE [dbo].[OrderDetail] CHECK CONSTRAINT [FK_OrderDetail_Size]\r\n",
                "GO\r\n"
            ],
            "metadata": {
                "urn": "Server[@Name='RyWork\\LOCALDB#C1D23680']/Database[@Name='OpenAI']/Table[@Name='OrderDetail' and @Schema='dbo']/ForeignKey[@Name='FK_OrderDetail_Size']",
                "object_type": "ForeignKey",
                "azdata_cell_guid": "79d11488-8b06-4da4-82b0-87c94376245b",
                "language": "sql"
            },
            "outputs": [],
            "execution_count": null
        },
        {
            "cell_type": "markdown",
            "source": [
                "# [FK_OrderDetail_Suger]"
            ],
            "metadata": {
                "urn": "Server[@Name='RyWork\\LOCALDB#C1D23680']/Database[@Name='OpenAI']/Table[@Name='OrderDetail' and @Schema='dbo']/ForeignKey[@Name='FK_OrderDetail_Suger']",
                "object_type": "ForeignKey",
                "azdata_cell_guid": "ad33209d-180f-4f73-a535-4a27e38c69d3"
            }
        },
        {
            "cell_type": "code",
            "source": [
                "ALTER TABLE [dbo].[OrderDetail]  WITH CHECK ADD  CONSTRAINT [FK_OrderDetail_Suger] FOREIGN KEY([SugerID])\r\nREFERENCES [dbo].[Suger] ([ID])\r\n",
                "GO\r\n",
                "ALTER TABLE [dbo].[OrderDetail] CHECK CONSTRAINT [FK_OrderDetail_Suger]\r\n",
                "GO\r\n"
            ],
            "metadata": {
                "urn": "Server[@Name='RyWork\\LOCALDB#C1D23680']/Database[@Name='OpenAI']/Table[@Name='OrderDetail' and @Schema='dbo']/ForeignKey[@Name='FK_OrderDetail_Suger']",
                "object_type": "ForeignKey",
                "azdata_cell_guid": "3ffc9c80-bbf9-46da-ac2b-1924b0e5bb13",
                "language": "sql"
            },
            "outputs": [],
            "execution_count": null
        },
        {
            "cell_type": "markdown",
            "source": [
                "# [FK_OrderDetailTopping_OrderDetail]"
            ],
            "metadata": {
                "urn": "Server[@Name='RyWork\\LOCALDB#C1D23680']/Database[@Name='OpenAI']/Table[@Name='OrderDetailTopping' and @Schema='dbo']/ForeignKey[@Name='FK_OrderDetailTopping_OrderDetail']",
                "object_type": "ForeignKey",
                "azdata_cell_guid": "4115c0db-b8d6-43d1-aa03-6e1469f7ac46"
            }
        },
        {
            "cell_type": "code",
            "source": [
                "ALTER TABLE [dbo].[OrderDetailTopping]  WITH CHECK ADD  CONSTRAINT [FK_OrderDetailTopping_OrderDetail] FOREIGN KEY([OrderDetailID])\r\nREFERENCES [dbo].[OrderDetail] ([ID])\r\n",
                "GO\r\n",
                "ALTER TABLE [dbo].[OrderDetailTopping] CHECK CONSTRAINT [FK_OrderDetailTopping_OrderDetail]\r\n",
                "GO\r\n"
            ],
            "metadata": {
                "urn": "Server[@Name='RyWork\\LOCALDB#C1D23680']/Database[@Name='OpenAI']/Table[@Name='OrderDetailTopping' and @Schema='dbo']/ForeignKey[@Name='FK_OrderDetailTopping_OrderDetail']",
                "object_type": "ForeignKey",
                "azdata_cell_guid": "c5df176f-d48b-4432-b266-09f346043030",
                "language": "sql"
            },
            "outputs": [],
            "execution_count": null
        },
        {
            "cell_type": "markdown",
            "source": [
                "# [FK_OrderDetailTopping_Topping]"
            ],
            "metadata": {
                "urn": "Server[@Name='RyWork\\LOCALDB#C1D23680']/Database[@Name='OpenAI']/Table[@Name='OrderDetailTopping' and @Schema='dbo']/ForeignKey[@Name='FK_OrderDetailTopping_Topping']",
                "object_type": "ForeignKey",
                "azdata_cell_guid": "ca71d313-6171-42c4-b064-752c9516f8d6"
            }
        },
        {
            "cell_type": "code",
            "source": [
                "ALTER TABLE [dbo].[OrderDetailTopping]  WITH CHECK ADD  CONSTRAINT [FK_OrderDetailTopping_Topping] FOREIGN KEY([ToppingID])\r\nREFERENCES [dbo].[Topping] ([ID])\r\n",
                "GO\r\n",
                "ALTER TABLE [dbo].[OrderDetailTopping] CHECK CONSTRAINT [FK_OrderDetailTopping_Topping]\r\n",
                "GO\r\n"
            ],
            "metadata": {
                "urn": "Server[@Name='RyWork\\LOCALDB#C1D23680']/Database[@Name='OpenAI']/Table[@Name='OrderDetailTopping' and @Schema='dbo']/ForeignKey[@Name='FK_OrderDetailTopping_Topping']",
                "object_type": "ForeignKey",
                "azdata_cell_guid": "b81119c7-b6df-48ad-b71d-8a8a3e4fadba",
                "language": "sql"
            },
            "outputs": [],
            "execution_count": null
        },
        {
            "cell_type": "markdown",
            "source": [
                "# [FK_ToppingStore_Topping]"
            ],
            "metadata": {
                "urn": "Server[@Name='RyWork\\LOCALDB#C1D23680']/Database[@Name='OpenAI']/Table[@Name='ToppingStore' and @Schema='dbo']/ForeignKey[@Name='FK_ToppingStore_Topping']",
                "object_type": "ForeignKey",
                "azdata_cell_guid": "ffcb7f59-b4ba-489c-8d34-b6a971a8049a"
            }
        },
        {
            "cell_type": "code",
            "source": [
                "ALTER TABLE [dbo].[ToppingStore]  WITH CHECK ADD  CONSTRAINT [FK_ToppingStore_Topping] FOREIGN KEY([ToppingID])\r\nREFERENCES [dbo].[Topping] ([ID])\r\n",
                "GO\r\n",
                "ALTER TABLE [dbo].[ToppingStore] CHECK CONSTRAINT [FK_ToppingStore_Topping]\r\n",
                "GO\r\n"
            ],
            "metadata": {
                "urn": "Server[@Name='RyWork\\LOCALDB#C1D23680']/Database[@Name='OpenAI']/Table[@Name='ToppingStore' and @Schema='dbo']/ForeignKey[@Name='FK_ToppingStore_Topping']",
                "object_type": "ForeignKey",
                "azdata_cell_guid": "fe1438cf-eb5a-46d3-983b-f0edbad6e206",
                "language": "sql"
            },
            "outputs": [],
            "execution_count": null
        },
        {
            "cell_type": "markdown",
            "source": [
                "# [OpenAI]"
            ],
            "metadata": {
                "urn": "Server[@Name='RyWork\\LOCALDB#C1D23680']/Database[@Name='OpenAI']",
                "object_type": "Database",
                "azdata_cell_guid": "34259320-4d6e-4f8a-b891-1a9369bdb8d3"
            }
        },
        {
            "cell_type": "code",
            "source": [
                "USE [master]\r\n",
                "GO\r\n"
            ],
            "metadata": {
                "urn": "Server[@Name='RyWork\\LOCALDB#C1D23680']/Database[@Name='OpenAI']",
                "object_type": "Database",
                "azdata_cell_guid": "43ae4056-2db3-4d37-bc58-75ddd45dc133",
                "language": "sql"
            },
            "outputs": [],
            "execution_count": null
        },
        {
            "cell_type": "code",
            "source": [
                "ALTER DATABASE [OpenAI] SET  READ_WRITE \r\n",
                "GO\r\n"
            ],
            "metadata": {
                "urn": "Server[@Name='RyWork\\LOCALDB#C1D23680']/Database[@Name='OpenAI']",
                "object_type": "Database",
                "azdata_cell_guid": "49cdfff8-31ca-4a98-9130-74e4c9489af7",
                "language": "sql"
            },
            "outputs": [],
            "execution_count": null
        }
    ]
}